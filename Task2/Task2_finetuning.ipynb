{
 "cells": [
  {
   "cell_type": "code",
   "execution_count": 1,
   "metadata": {},
   "outputs": [],
   "source": [
    "# import dependencies\n",
    "import torch\n",
    "from datasets import load_dataset\n",
    "import datasets\n",
    "import torch.nn as nn\n",
    "from transformers import AutoModel, AutoTokenizer, AutoModelForMaskedLM, DataCollatorForLanguageModeling\n",
    "from torch.utils.data import DataLoader, Dataset, Subset\n",
    "from sklearn.model_selection import train_test_split\n",
    "import pandas as pd\n",
    "from tqdm.notebook import tqdm\n",
    "import random\n",
    "\n",
    "###\n",
    "from torch.autograd import Variable\n",
    "from torch.utils.data import Dataset\n",
    "from transformers import Trainer, TrainingArguments\n",
    "import numpy as np\n",
    "from SMILESDataset import SMILESDataset\n",
    "from MoLFormerWithRegressionHead import MoLFormerWithRegressionHead"
   ]
  },
  {
   "cell_type": "code",
   "execution_count": 2,
   "metadata": {},
   "outputs": [],
   "source": [
    "# specify dataset name and model name\n",
    "DATASET_PATH = \"scikit-fingerprints/MoleculeNet_Lipophilicity\"\n",
    "MODEL_NAME = \"ibm/MoLFormer-XL-both-10pct\"  #MoLFormer model"
   ]
  },
  {
   "cell_type": "code",
   "execution_count": 3,
   "metadata": {},
   "outputs": [],
   "source": [
    "tokenizer = AutoTokenizer.from_pretrained(MODEL_NAME, trust_remote_code=True)"
   ]
  },
  {
   "cell_type": "code",
   "execution_count": 4,
   "metadata": {},
   "outputs": [
    {
     "data": {
      "application/vnd.microsoft.datawrangler.viewer.v0+json": {
       "columns": [
        {
         "name": "index",
         "rawType": "int64",
         "type": "integer"
        },
        {
         "name": "0",
         "rawType": "float64",
         "type": "float"
        }
       ],
       "conversionMethod": "pd.DataFrame",
       "ref": "4eca317d-0cec-493b-8142-3ab9da1af9cf",
       "rows": [
        [
         "0",
         "-6.021718978881836"
        ],
        [
         "1",
         "6.152141094207764"
        ],
        [
         "2",
         "-5.725117206573486"
        ],
        [
         "3",
         "6.385264873504639"
        ],
        [
         "4",
         "5.413463592529297"
        ],
        [
         "5",
         "-6.251822471618652"
        ],
        [
         "6",
         "6.172467708587647"
        ],
        [
         "7",
         "4.859258651733398"
        ],
        [
         "8",
         "-10.05409812927246"
        ],
        [
         "9",
         "10.69232177734375"
        ],
        [
         "10",
         "-10.21487808227539"
        ],
        [
         "11",
         "10.886613845825195"
        ],
        [
         "12",
         "10.199356079101562"
        ],
        [
         "13",
         "-6.134176254272461"
        ],
        [
         "14",
         "-6.327972888946533"
        ],
        [
         "15",
         "5.108697891235352"
        ],
        [
         "16",
         "-5.923819065093994"
        ],
        [
         "17",
         "-6.085044860839844"
        ],
        [
         "18",
         "5.034525394439697"
        ],
        [
         "19",
         "4.731119155883789"
        ],
        [
         "20",
         "-4.616247177124023"
        ],
        [
         "21",
         "-4.8837056159973145"
        ],
        [
         "22",
         "4.487553596496582"
        ],
        [
         "23",
         "7.093735694885254"
        ],
        [
         "24",
         "6.83316707611084"
        ],
        [
         "25",
         "6.826971054077148"
        ],
        [
         "26",
         "7.258449077606201"
        ],
        [
         "27",
         "-7.497986316680908"
        ],
        [
         "28",
         "-0.8643515110015869"
        ],
        [
         "29",
         "0.9931617975234984"
        ],
        [
         "30",
         "-1.6351932287216189"
        ],
        [
         "31",
         "0.452671468257904"
        ],
        [
         "32",
         "-7.0803961753845215"
        ],
        [
         "33",
         "-8.286890983581543"
        ],
        [
         "34",
         "8.350478172302246"
        ],
        [
         "35",
         "8.458406448364258"
        ],
        [
         "36",
         "-5.927976608276367"
        ],
        [
         "37",
         "6.277729034423828"
        ],
        [
         "38",
         "-6.402135848999023"
        ],
        [
         "39",
         "6.494779586791992"
        ],
        [
         "40",
         "-5.227973937988281"
        ],
        [
         "41",
         "4.654783248901367"
        ],
        [
         "42",
         "-4.712558269500732"
        ],
        [
         "43",
         "-4.948822975158691"
        ],
        [
         "44",
         "-4.676098346710205"
        ],
        [
         "45",
         "-6.908156394958496"
        ],
        [
         "46",
         "-6.0074639320373535"
        ],
        [
         "47",
         "-6.863203048706055"
        ],
        [
         "48",
         "4.424017429351807"
        ],
        [
         "49",
         "-6.40897798538208"
        ]
       ],
       "shape": {
        "columns": 1,
        "rows": 300
       }
      },
      "text/html": [
       "<div>\n",
       "<style scoped>\n",
       "    .dataframe tbody tr th:only-of-type {\n",
       "        vertical-align: middle;\n",
       "    }\n",
       "\n",
       "    .dataframe tbody tr th {\n",
       "        vertical-align: top;\n",
       "    }\n",
       "\n",
       "    .dataframe thead th {\n",
       "        text-align: right;\n",
       "    }\n",
       "</style>\n",
       "<table border=\"1\" class=\"dataframe\">\n",
       "  <thead>\n",
       "    <tr style=\"text-align: right;\">\n",
       "      <th></th>\n",
       "      <th>0</th>\n",
       "    </tr>\n",
       "  </thead>\n",
       "  <tbody>\n",
       "    <tr>\n",
       "      <th>0</th>\n",
       "      <td>-6.021719</td>\n",
       "    </tr>\n",
       "    <tr>\n",
       "      <th>1</th>\n",
       "      <td>6.152141</td>\n",
       "    </tr>\n",
       "    <tr>\n",
       "      <th>2</th>\n",
       "      <td>-5.725117</td>\n",
       "    </tr>\n",
       "    <tr>\n",
       "      <th>3</th>\n",
       "      <td>6.385265</td>\n",
       "    </tr>\n",
       "    <tr>\n",
       "      <th>4</th>\n",
       "      <td>5.413464</td>\n",
       "    </tr>\n",
       "    <tr>\n",
       "      <th>...</th>\n",
       "      <td>...</td>\n",
       "    </tr>\n",
       "    <tr>\n",
       "      <th>295</th>\n",
       "      <td>-6.070569</td>\n",
       "    </tr>\n",
       "    <tr>\n",
       "      <th>296</th>\n",
       "      <td>6.113819</td>\n",
       "    </tr>\n",
       "    <tr>\n",
       "      <th>297</th>\n",
       "      <td>-4.806663</td>\n",
       "    </tr>\n",
       "    <tr>\n",
       "      <th>298</th>\n",
       "      <td>3.981204</td>\n",
       "    </tr>\n",
       "    <tr>\n",
       "      <th>299</th>\n",
       "      <td>-4.620516</td>\n",
       "    </tr>\n",
       "  </tbody>\n",
       "</table>\n",
       "<p>300 rows × 1 columns</p>\n",
       "</div>"
      ],
      "text/plain": [
       "            0\n",
       "0   -6.021719\n",
       "1    6.152141\n",
       "2   -5.725117\n",
       "3    6.385265\n",
       "4    5.413464\n",
       "..        ...\n",
       "295 -6.070569\n",
       "296  6.113819\n",
       "297 -4.806663\n",
       "298  3.981204\n",
       "299 -4.620516\n",
       "\n",
       "[300 rows x 1 columns]"
      ]
     },
     "execution_count": 4,
     "metadata": {},
     "output_type": "execute_result"
    }
   ],
   "source": [
    "influence_scores = pd.read_table(\"influence_scores.txt\", header=None)\n",
    "influence_scores"
   ]
  },
  {
   "cell_type": "code",
   "execution_count": 5,
   "metadata": {},
   "outputs": [
    {
     "data": {
      "text/plain": [
       "array([[<Axes: title={'center': '0'}>]], dtype=object)"
      ]
     },
     "execution_count": 5,
     "metadata": {},
     "output_type": "execute_result"
    },
    {
     "data": {
      "image/png": "[encoded data removed]",
      "text/plain": [
       "<Figure size 640x480 with 1 Axes>"
      ]
     },
     "metadata": {},
     "output_type": "display_data"
    }
   ],
   "source": [
    "# histogram of influence scores\n",
    "influence_scores.hist()"
   ]
  },
  {
   "cell_type": "code",
   "execution_count": 6,
   "metadata": {},
   "outputs": [
    {
     "data": {
      "application/vnd.microsoft.datawrangler.viewer.v0+json": {
       "columns": [
        {
         "name": "index",
         "rawType": "int64",
         "type": "integer"
        },
        {
         "name": "SMILES",
         "rawType": "object",
         "type": "string"
        },
        {
         "name": "Label",
         "rawType": "float64",
         "type": "float"
        }
       ],
       "conversionMethod": "pd.DataFrame",
       "ref": "d12e54dc-87e7-46f4-a9f3-c2c98ca383c1",
       "rows": [
        [
         "0",
         "CCCCN1Cc2c(nc3cc(-c4ccco4)nn3c2O)C1=O",
         "1.548"
        ],
        [
         "1",
         "Cc1cc(C)c2c(n1)sc1c2ncnc1N1CCN(C)CC1",
         "2.568"
        ],
        [
         "2",
         "COC(=O)[C@H]1[C@H]2CC[C@H](C[C@@H]1OC(=O)c1ccccc1)N2C",
         "0.102"
        ],
        [
         "3",
         "Nc1nonc1/C(=N/O)Nc1ccc(F)c(Cl)c1",
         "2.45"
        ],
        [
         "4",
         "Cc1c[nH]c(/C=C2/C(=O)Nc3ccccc32)c1CCC(=O)O",
         "1.04"
        ],
        [
         "5",
         "COc1ccc2c3c1O[C@H]1[C@@H](O)C=C[C@@H]4[C@@H](C2)N(C)CC[C@]314",
         "1.402"
        ],
        [
         "6",
         "NC(=O)c1cccc(O[C@@H]2C[C@H]3CC[C@@H](C2)N3Cc2ccccc2)n1",
         "1.436"
        ],
        [
         "7",
         "CN1[C@@H]2CC[C@H]1C[C@@H](OC(=O)[C@H](CO)c1ccccc1)C2",
         "-0.076"
        ],
        [
         "8",
         "C[C@H](COc1ccccc1)N[C@H](C)[C@@H](O)c1ccc(O)cc1",
         "1.498"
        ],
        [
         "9",
         "COc1ccc2c3c1O[C@@H]1[C@@H](O)C=C[C@@H]4[C@@H](C2)N(C)CC[C@]314",
         "1.402"
        ],
        [
         "10",
         "C[C@@H](c1ncncc1F)[C@@](O)(Cn1cncn1)c1ccc(F)cc1F",
         "1.754"
        ],
        [
         "11",
         "N#C/N=C(\\N)c1sc(Nc2ccccc2)nc1N",
         "2.372"
        ],
        [
         "12",
         "N#C[C@@H]1CCCN1C(=O)CNC12C[C@H]3C[C@H](CC(O)(C3)C1)C2",
         "0.01"
        ],
        [
         "13",
         "CN1CCN2c3ncccc3Cc3ccccc3[C@@H]2C1",
         "1.906"
        ],
        [
         "14",
         "CN1[C@@H]2CC[C@H]1C[C@@H](OC(=O)[C@@H](O)c1ccccc1)C2",
         "0.352"
        ],
        [
         "15",
         "CN1[C@H]2CC[C@H]1CC(OC(=O)[C@@H](O)c1ccccc1)C2",
         "0.352"
        ],
        [
         "16",
         "CN1[C@@H]2CC[C@H]1CC(OC(=O)[C@@H](CO)c1ccccc1)C2",
         "-0.076"
        ],
        [
         "17",
         "CN1[C@@H]2CC[C@H]1C[C@@H](OC(=O)[C@H](O)c1ccccc1)C2",
         "0.352"
        ],
        [
         "18",
         "CC(C)C[C@H](N)c1nnc(S(=O)(=O)Cc2ccc(F)cc2)o1",
         "1.848"
        ],
        [
         "19",
         "C[C@H](CCc1ccccc1)NC[C@H](O)c1ccc(O)c(C(N)=O)c1",
         "0.206"
        ],
        [
         "20",
         "O=C1CN(N=Cc2ccc(-c3ccc([N+](=O)[O-])cc3)o2)C(O)=N1",
         "1.456"
        ],
        [
         "21",
         "COc1ccccc1CNC(=O)c1ccc2cnccc2n1",
         "2.204"
        ],
        [
         "22",
         "C[C@H](Oc1c(Cl)cccc1Cl)C1=NCCN1",
         "1.898"
        ],
        [
         "23",
         "CC(C)c1ccc2oc3nc(N)c(C(=O)O)cc3c(=O)c2c1",
         "0.68"
        ],
        [
         "24",
         "O=S(=O)(Nc1nccs1)c1ccc(O)cc1",
         "1.106"
        ],
        [
         "25",
         "CCN(c1ccccc1)c1cc(NC)[n+](C)c(C)n1",
         "1.956"
        ],
        [
         "26",
         "N#Cc1ccc(C(c2ccc(C#N)cc2)n2cncn2)cc1",
         "2.336"
        ],
        [
         "27",
         "O=C(NC1CCCC1)[C@H]1CCCN(S(=O)(=O)c2cccs2)C1",
         "1.642"
        ],
        [
         "28",
         "O=S(=O)(NC[C@@H](c1ccccc1)N1CCCC1)c1cccnc1",
         "3.27"
        ],
        [
         "29",
         "CN1[C@@H]2CC[C@@H]1C[C@@H](OC(=O)[C@H](CO)c1ccccc1)CC2",
         "-0.076"
        ],
        [
         "30",
         "O=C(c1cc2cc(Cl)ccc2[nH]1)N1CCCNCC1",
         "2.002"
        ],
        [
         "31",
         "CCOc1ccc(NC(=O)C(=O)Nc2ccc(NC(C)=O)cc2)cc1",
         "1.07"
        ],
        [
         "32",
         "CN1CCCN(C(=O)c2cc3ccccc3[nH]2)CC1",
         "1.852"
        ],
        [
         "33",
         "O=S(=O)(Nc1nccs1)c1ccc2c(c1)OCCO2",
         "0.888"
        ],
        [
         "34",
         "N[C@H]1CC[C@H](NC(=O)c2cc(-c3cccs3)on2)CC1",
         "1.956"
        ],
        [
         "35",
         "CC(=O)NC1CCC(NC(=O)c2cc(-c3cccs3)on2)CC1",
         "2.276"
        ],
        [
         "36",
         "NS(=O)(=O)c1ccc(CNc2ccccc2)cc1",
         "2.332"
        ],
        [
         "37",
         "C[C@H](C(=O)N1CCCc2ccccc2C1)N1C(=O)c2ccccc2C1=O",
         "1.812"
        ],
        [
         "38",
         "CS(=O)(=O)N1CC[C@H](NC(=O)NC23CC4CC(CC(C4)C2)C3)C1",
         "0.28"
        ],
        [
         "39",
         "CCc1cc(Cl)c(OC)c(C(=O)NC[C@H]2CCCN2CC)c1O",
         "0.06"
        ],
        [
         "40",
         "O=C(N[C@@H]1CC[C@H](CO)CC1)c1cc(-c2cccs2)on1",
         "1.956"
        ],
        [
         "41",
         "CCc1c(C(=O)Nc2cc(C)on2)cnn1-c1ccccc1",
         "2.806"
        ],
        [
         "42",
         "O=C(NC1CCC(=O)CC1)c1cc(-c2cccs2)on1",
         "2.59"
        ],
        [
         "43",
         "CCN1CCC[C@H]1CNC(=O)c1cc(S(C)(=O)=O)ccc1OC",
         "-0.338"
        ],
        [
         "44",
         "O=C(O)[C@H]1Cc2c3ccccc3[nH]c2[C@@H](c2ccc(F)cc2)N1",
         "1.662"
        ],
        [
         "45",
         "COc1cccc(COC[C@@H](O)CN2CCC(C(=O)O)CC2)c1",
         "0.744"
        ],
        [
         "46",
         "O=C(C1CCC(=O)CC1)N1CC(=O)N2CCc3ccccc3[C@@H]2C1",
         "2.006"
        ],
        [
         "47",
         "O=C(c1ccccc1Cl)N1CCN(c2ccccn2)CC1",
         "1.038"
        ],
        [
         "48",
         "COc1cc(Cc2cnc(N)nc2N)cc(Br)c1OC",
         "1.776"
        ],
        [
         "49",
         "O=C(N[C@H]1CC[C@H](NCCO)CC1)c1cc(-c2cccs2)on1",
         "1.956"
        ]
       ],
       "shape": {
        "columns": 2,
        "rows": 300
       }
      },
      "text/html": [
       "<div>\n",
       "<style scoped>\n",
       "    .dataframe tbody tr th:only-of-type {\n",
       "        vertical-align: middle;\n",
       "    }\n",
       "\n",
       "    .dataframe tbody tr th {\n",
       "        vertical-align: top;\n",
       "    }\n",
       "\n",
       "    .dataframe thead th {\n",
       "        text-align: right;\n",
       "    }\n",
       "</style>\n",
       "<table border=\"1\" class=\"dataframe\">\n",
       "  <thead>\n",
       "    <tr style=\"text-align: right;\">\n",
       "      <th></th>\n",
       "      <th>SMILES</th>\n",
       "      <th>Label</th>\n",
       "    </tr>\n",
       "  </thead>\n",
       "  <tbody>\n",
       "    <tr>\n",
       "      <th>0</th>\n",
       "      <td>CCCCN1Cc2c(nc3cc(-c4ccco4)nn3c2O)C1=O</td>\n",
       "      <td>1.548</td>\n",
       "    </tr>\n",
       "    <tr>\n",
       "      <th>1</th>\n",
       "      <td>Cc1cc(C)c2c(n1)sc1c2ncnc1N1CCN(C)CC1</td>\n",
       "      <td>2.568</td>\n",
       "    </tr>\n",
       "    <tr>\n",
       "      <th>2</th>\n",
       "      <td>COC(=O)[C@H]1[C@H]2CC[C@H](C[C@@H]1OC(=O)c1ccc...</td>\n",
       "      <td>0.102</td>\n",
       "    </tr>\n",
       "    <tr>\n",
       "      <th>3</th>\n",
       "      <td>Nc1nonc1/C(=N/O)Nc1ccc(F)c(Cl)c1</td>\n",
       "      <td>2.450</td>\n",
       "    </tr>\n",
       "    <tr>\n",
       "      <th>4</th>\n",
       "      <td>Cc1c[nH]c(/C=C2/C(=O)Nc3ccccc32)c1CCC(=O)O</td>\n",
       "      <td>1.040</td>\n",
       "    </tr>\n",
       "    <tr>\n",
       "      <th>...</th>\n",
       "      <td>...</td>\n",
       "      <td>...</td>\n",
       "    </tr>\n",
       "    <tr>\n",
       "      <th>295</th>\n",
       "      <td>O=C(N[C@@H]1CCCCCN(C(=O)c2ccccc2)C1)C1CCOCC1</td>\n",
       "      <td>1.554</td>\n",
       "    </tr>\n",
       "    <tr>\n",
       "      <th>296</th>\n",
       "      <td>CO[C@@H](C)CCC(=O)N[C@@H]1CCN(C(=O)c2ccccc2)C1</td>\n",
       "      <td>1.898</td>\n",
       "    </tr>\n",
       "    <tr>\n",
       "      <th>297</th>\n",
       "      <td>C[C@H](NC(=O)N1CCOC[C@@H]1C)c1cccc(N2CCCC2)c1</td>\n",
       "      <td>0.806</td>\n",
       "    </tr>\n",
       "    <tr>\n",
       "      <th>298</th>\n",
       "      <td>CCN(C(=O)Cc1ccc(C)cc1)[C@H]1CCN(CCO)C1</td>\n",
       "      <td>2.822</td>\n",
       "    </tr>\n",
       "    <tr>\n",
       "      <th>299</th>\n",
       "      <td>Cc1sc2ncnc(SCC(=O)N[C@@H]3C[C@H]4CC[C@@H]3O4)c...</td>\n",
       "      <td>2.322</td>\n",
       "    </tr>\n",
       "  </tbody>\n",
       "</table>\n",
       "<p>300 rows × 2 columns</p>\n",
       "</div>"
      ],
      "text/plain": [
       "                                                SMILES  Label\n",
       "0                CCCCN1Cc2c(nc3cc(-c4ccco4)nn3c2O)C1=O  1.548\n",
       "1                 Cc1cc(C)c2c(n1)sc1c2ncnc1N1CCN(C)CC1  2.568\n",
       "2    COC(=O)[C@H]1[C@H]2CC[C@H](C[C@@H]1OC(=O)c1ccc...  0.102\n",
       "3                     Nc1nonc1/C(=N/O)Nc1ccc(F)c(Cl)c1  2.450\n",
       "4           Cc1c[nH]c(/C=C2/C(=O)Nc3ccccc32)c1CCC(=O)O  1.040\n",
       "..                                                 ...    ...\n",
       "295       O=C(N[C@@H]1CCCCCN(C(=O)c2ccccc2)C1)C1CCOCC1  1.554\n",
       "296     CO[C@@H](C)CCC(=O)N[C@@H]1CCN(C(=O)c2ccccc2)C1  1.898\n",
       "297      C[C@H](NC(=O)N1CCOC[C@@H]1C)c1cccc(N2CCCC2)c1  0.806\n",
       "298             CCN(C(=O)Cc1ccc(C)cc1)[C@H]1CCN(CCO)C1  2.822\n",
       "299  Cc1sc2ncnc(SCC(=O)N[C@@H]3C[C@H]4CC[C@@H]3O4)c...  2.322\n",
       "\n",
       "[300 rows x 2 columns]"
      ]
     },
     "execution_count": 6,
     "metadata": {},
     "output_type": "execute_result"
    }
   ],
   "source": [
    "external_dataset = pd.read_csv(\"External-Dataset_for_Task2.csv\")\n",
    "external_dataset"
   ]
  },
  {
   "cell_type": "code",
   "execution_count": null,
   "metadata": {},
   "outputs": [],
   "source": [
    "n = 6.5"
   ]
  },
  {
   "cell_type": "code",
   "execution_count": null,
   "metadata": {},
   "outputs": [],
   "source": [
    "dataset = load_dataset(DATASET_PATH)\n",
    "train_dataset, test_dataset = train_test_split(SMILESDataset(dataset['train']['SMILES'], dataset['train']['label']), random_state=42) # same random state as the trained model\n",
    "dataset = {'train': train_dataset, 'test': test_dataset} # original dataset\n",
    "\n",
    "# augment the dataset with external data\n",
    "external_dataset = external_dataset.iloc[influence_scores[abs(influence_scores[0]) > n].index].reset_index() # change n\n",
    "external_dataset = SMILESDataset(external_dataset['SMILES'], external_dataset['Label']) # external dataset\n",
    "dataset['train'] = torch.utils.data.ConcatDataset([dataset['train'], external_dataset]) # augmented dataset\n",
    "train_dataset, val_dataset = train_test_split(dataset['train'], test_size=0.1,random_state=42) \n",
    "\n",
    "val_dataloader = torch.utils.data.DataLoader(val_dataset, batch_size=16, shuffle=True) # validation dataloader\n",
    "train_dataloader = torch.utils.data.DataLoader(dataset['train'], batch_size=16,shuffle=True) # training dataloader\n",
    "test_dataloader = torch.utils.data.DataLoader(dataset['test'], batch_size=16, shuffle=True) # test dataloader"
   ]
  },
  {
   "cell_type": "code",
   "execution_count": null,
   "metadata": {},
   "outputs": [
    {
     "data": {
      "text/plain": [
       "0.3233333333333333"
      ]
     },
     "execution_count": 8,
     "metadata": {},
     "output_type": "execute_result"
    }
   ],
   "source": [
    "len(influence_scores[abs(influence_scores[0]) > n])/len(influence_scores) # number of positive influence scores"
   ]
  },
  {
   "cell_type": "code",
   "execution_count": 9,
   "metadata": {},
   "outputs": [
    {
     "name": "stdout",
     "output_type": "stream",
     "text": [
      "3382\n"
     ]
    }
   ],
   "source": [
    "print(len(dataset['train']))"
   ]
  },
  {
   "cell_type": "code",
   "execution_count": 10,
   "metadata": {},
   "outputs": [],
   "source": [
    "model = AutoModel.from_pretrained(MODEL_NAME, deterministic_eval=True, trust_remote_code=True)\n"
   ]
  },
  {
   "cell_type": "code",
   "execution_count": 11,
   "metadata": {},
   "outputs": [],
   "source": [
    "device = torch.device(\"cuda\" if torch.cuda.is_available() else \"cpu\")\n",
    "regression_model = MoLFormerWithRegressionHead(model, 768).to(device)"
   ]
  },
  {
   "cell_type": "code",
   "execution_count": 12,
   "metadata": {},
   "outputs": [],
   "source": [
    "import torch.optim as optim\n",
    "\n",
    "# Loss function (Mean Squared Error)\n",
    "criterion = torch.nn.MSELoss()\n",
    "\n",
    "# Optimizer (Adam)\n",
    "optimizer = optim.Adam(model.parameters(), lr=0.0001)  \n",
    "epochs = 20"
   ]
  },
  {
   "cell_type": "code",
   "execution_count": null,
   "metadata": {},
   "outputs": [],
   "source": [
    "# this function is the same as Task 1\n",
    "\n",
    "\n",
    "import matplotlib.pyplot as plt\n",
    "import numpy as np\n",
    "\n",
    "def train_with_early_stopping(train_dataloader, val_dataloader, test_dataloader, epochs, optimizer, criterion, model, tokenizer, device, patience=5):\n",
    "    model.train()  # Set model to training mode\n",
    "    \n",
    "    train_losses = []\n",
    "    val_losses = []\n",
    "    test_losses = []\n",
    "    \n",
    "    best_val_loss = float('inf')\n",
    "    early_stop_counter = 0\n",
    "\n",
    "    for epoch in range(int(epochs)):\n",
    "        total_train_loss = 0\n",
    "        for batch in train_dataloader:\n",
    "            smiles = batch['smiles']\n",
    "            smiles = tokenizer(smiles, padding=True, return_tensors='pt').to(device)\n",
    "            label = batch['label'].float().reshape(len(batch['label']), 1).to(device)\n",
    "\n",
    "            optimizer.zero_grad()\n",
    "            outputs = model(smiles['input_ids'], smiles['attention_mask'])\n",
    "\n",
    "            loss = criterion(outputs, label)\n",
    "            total_train_loss += loss.item()\n",
    "\n",
    "            loss.backward()\n",
    "            optimizer.step()\n",
    "\n",
    "        avg_train_loss = total_train_loss / len(train_dataloader)\n",
    "        train_losses.append(avg_train_loss)\n",
    "\n",
    "        # Validation phase\n",
    "        model.eval()\n",
    "        total_val_loss = 0\n",
    "        with torch.no_grad():\n",
    "            for batch in val_dataloader:\n",
    "                smiles = batch['smiles']\n",
    "                smiles = tokenizer(smiles, padding=True, return_tensors='pt').to(device)\n",
    "                label = batch['label'].float().reshape(len(batch['label']), 1).to(device)\n",
    "\n",
    "                outputs = model(smiles['input_ids'], smiles['attention_mask'])\n",
    "                loss = criterion(outputs, label)\n",
    "                total_val_loss += loss.item()\n",
    "\n",
    "        avg_val_loss = total_val_loss / len(val_dataloader)\n",
    "        val_losses.append(avg_val_loss)\n",
    "\n",
    "        print(f\"Epoch [{epoch+1}/{epochs}], Train Loss: {avg_train_loss:.4f}, Val Loss: {avg_val_loss:.4f}\")\n",
    "\n",
    "        # Early stopping check\n",
    "        if avg_val_loss < best_val_loss:\n",
    "            best_val_loss = avg_val_loss\n",
    "            early_stop_counter = 0\n",
    "        else:\n",
    "            early_stop_counter += 1\n",
    "\n",
    "        if early_stop_counter >= patience:\n",
    "            print(\"Early stopping triggered!\")\n",
    "            break\n",
    "        \n",
    "        model.train()\n",
    "\n",
    "    # Test phase\n",
    "    model.eval()\n",
    "    total_test_loss = 0\n",
    "    with torch.no_grad():\n",
    "        for batch in test_dataloader:\n",
    "            smiles = batch['smiles']\n",
    "            smiles = tokenizer(smiles, padding=True, return_tensors='pt').to(device)\n",
    "            label = batch['label'].reshape(len(batch['label']), 1).to(device)\n",
    "    \n",
    "            outputs = model(smiles['input_ids'], smiles['attention_mask'])\n",
    "            \n",
    "            # Ensure output shape matches target shape\n",
    "            loss = criterion(outputs, label)\n",
    "            total_test_loss += loss.item()\n",
    "    \n",
    "    avg_test_loss = total_test_loss / len(test_dataloader)\n",
    "    print(f\"Final Test Loss: {avg_test_loss:.4f}\")  # Explicitly print test loss\n",
    "    \n",
    "    # Plot losses\n",
    "    plt.figure(figsize=(8,6))\n",
    "    plt.plot(range(1, len(train_losses) + 1), train_losses, label=\"Train Loss\", color='blue')\n",
    "    plt.plot(range(1, len(val_losses) + 1), val_losses, label=\"Validation Loss\", color='red')\n",
    "    plt.axhline(y=avg_test_loss, color='black', linestyle='--', label=\"Test Loss\")\n",
    "    plt.xlabel(\"Epochs\")\n",
    "    plt.ylabel(\"Loss\")\n",
    "    plt.legend()\n",
    "    plt.title(\"Epoch vs Loss\")\n",
    "    plt.show()\n"
   ]
  },
  {
   "cell_type": "code",
   "execution_count": 16,
   "metadata": {},
   "outputs": [
    {
     "name": "stdout",
     "output_type": "stream",
     "text": [
      "Epoch [1/20], Train Loss: 0.9329, Val Loss: 0.5970\n",
      "Epoch [2/20], Train Loss: 0.5291, Val Loss: 0.3349\n",
      "Epoch [3/20], Train Loss: 0.3795, Val Loss: 0.2079\n",
      "Epoch [4/20], Train Loss: 0.2954, Val Loss: 0.1725\n",
      "Epoch [5/20], Train Loss: 0.2673, Val Loss: 0.1955\n",
      "Epoch [6/20], Train Loss: 0.2074, Val Loss: 0.1420\n",
      "Epoch [7/20], Train Loss: 0.1744, Val Loss: 0.1417\n",
      "Epoch [8/20], Train Loss: 0.1526, Val Loss: 0.1091\n",
      "Epoch [9/20], Train Loss: 0.1482, Val Loss: 0.1066\n",
      "Epoch [10/20], Train Loss: 0.1316, Val Loss: 0.1375\n",
      "Epoch [11/20], Train Loss: 0.1245, Val Loss: 0.0966\n",
      "Epoch [12/20], Train Loss: 0.1194, Val Loss: 0.0955\n",
      "Epoch [13/20], Train Loss: 0.1133, Val Loss: 0.0796\n",
      "Epoch [14/20], Train Loss: 0.1065, Val Loss: 0.0809\n",
      "Epoch [15/20], Train Loss: 0.1075, Val Loss: 0.1645\n",
      "Epoch [16/20], Train Loss: 0.0965, Val Loss: 0.0905\n",
      "Early stopping triggered!\n",
      "Final Test Loss: 0.4119\n"
     ]
    },
    {
     "data": {
      "image/png": "[encoded data removed]",
      "text/plain": [
       "<Figure size 800x600 with 1 Axes>"
      ]
     },
     "metadata": {},
     "output_type": "display_data"
    }
   ],
   "source": [
    "train_with_early_stopping(train_dataloader, val_dataloader, test_dataloader, epochs, optimizer, criterion, regression_model, tokenizer, device, patience=3)"
   ]
  },
  {
   "cell_type": "code",
   "execution_count": null,
   "metadata": {},
   "outputs": [],
   "source": [
    "# MSE 77 % 0.4199\n",
    "# MSE 50 % 0.4353\n",
    "# MSE 33 % 0.4599"
   ]
  }
 ],
 "metadata": {
  "kernelspec": {
   "display_name": ".venv",
   "language": "python",
   "name": "python3"
  },
  "language_info": {
   "codemirror_mode": {
    "name": "ipython",
    "version": 3
   },
   "file_extension": ".py",
   "mimetype": "text/x-python",
   "name": "python",
   "nbconvert_exporter": "python",
   "pygments_lexer": "ipython3",
   "version": "3.10.12"
  }
 },
 "nbformat": 4,
 "nbformat_minor": 2
}
